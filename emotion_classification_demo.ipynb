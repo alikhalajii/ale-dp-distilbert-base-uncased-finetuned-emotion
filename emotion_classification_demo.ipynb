{
 "cells": [
  {
   "cell_type": "code",
   "execution_count": null,
   "metadata": {},
   "outputs": [],
   "source": [
    "# Ensure you have the required dependencies installed.\n",
    "!pip install -U transformers\n",
    "!pip install -U numpy"
   ]
  },
  {
   "cell_type": "code",
   "execution_count": null,
   "metadata": {},
   "outputs": [],
   "source": [
    "# Import Libraries\n",
    "from transformers import pipeline\n",
    "import numpy as np\n",
    "\n",
    "# Load the model from Hugging Face\n",
    "model = \"ale-dp/distilbert-base-uncased-finetuned-emotion\"\n",
    "classifier = pipeline(\"text-classification\", model=model)\n",
    "\n",
    "# Define class labels\n",
    "class_labels = [\"Sadness\", \"Joy\", \"Love\", \"Anger\", \"Fear\", \"Surprise\"]"
   ]
  },
  {
   "cell_type": "code",
   "execution_count": null,
   "metadata": {},
   "outputs": [],
   "source": [
    "def emotion_classifier(input_text):\n",
    "    \"\"\"\n",
    "    Analyzes the emotion in a given text and returns a dictionary of emotion labels:\n",
    "    with their corresponding probabilities.\n",
    "    \"\"\"\n",
    "    # Get predictions\n",
    "    preds = classifier(input_text, return_all_scores=True)\n",
    "\n",
    "    # Extract scores in a list of dicts {class:score}\n",
    "    scores_list = preds[0]\n",
    "\n",
    "    # Calculate total sum of scores for normalization\n",
    "    total_score = sum(score['score'] for score in scores_list)\n",
    "\n",
    "    # Create a dictionary to store labels and their normalized probabilities\n",
    "    labeled_probabilities = {}\n",
    "\n",
    "    # Iterate through the scores list to calculate and store normalized probabilities\n",
    "    for score in scores_list:\n",
    "        label = score['label']\n",
    "        probability = (score['score'] / total_score) * 100\n",
    "        labeled_probabilities[label] = probability\n",
    "\n",
    "\n",
    "    return labeled_probabilities"
   ]
  },
  {
   "cell_type": "code",
   "execution_count": null,
   "metadata": {},
   "outputs": [],
   "source": [
    "text = \"I'm in such a happy mood today i feel almost delighted and i havent done anything different today then i normally have it is wonderful\"\n",
    "\n",
    "pred_labels = emotion_classifier(text)\n",
    "\n",
    "emotion_output = '\\n'.join([f\"{label.lower()}: {probability:.2f}%\" for label, probability in pred_labels.items()])\n",
    "print(f\"The predicted emotions for the text are:\\n{emotion_output}\")\n",
    "\n"
   ]
  },
  {
   "cell_type": "code",
   "execution_count": null,
   "metadata": {},
   "outputs": [],
   "source": [
    "# Feel free to test the emotion classifier on your own text. (Limited to 1028 words\n",
    "text = \"Write your text here\"\n",
    "\n",
    "pred_labels = emotion_classifier(text)\n",
    "\n",
    "emotion_output = '\\n'.join([f\"{label.lower()}: {probability:.2f}%\" for label, probability in pred_labels.items()])\n",
    "print(f\"The predicted emotions for the text are:\\n{emotion_output}\")"
   ]
  }
 ],
 "metadata": {
  "language_info": {
   "name": "python"
  }
 },
 "nbformat": 4,
 "nbformat_minor": 2
}
